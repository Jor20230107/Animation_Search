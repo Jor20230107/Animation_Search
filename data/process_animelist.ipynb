{
 "cells": [
  {
   "cell_type": "code",
   "execution_count": 17,
   "id": "898db5fb-5fc9-48ee-8a9f-5a2798913346",
   "metadata": {},
   "outputs": [],
   "source": [
    "import pandas as pd"
   ]
  },
  {
   "cell_type": "code",
   "execution_count": 18,
   "id": "6bdb4a1b-3fde-41c1-a04b-9413936adcba",
   "metadata": {},
   "outputs": [],
   "source": [
    "chunksize = 1000000\n",
    "df = pd.read_csv('D:/WebML/Recommender/data/animelist.csv', chunksize=chunksize)"
   ]
  },
  {
   "cell_type": "code",
   "execution_count": 19,
   "id": "070f8ec3-fd5c-48af-b152-f84b92a8e560",
   "metadata": {},
   "outputs": [],
   "source": [
    "watching_chunks = []\n",
    "completed_chunks = []\n",
    "\n",
    "for chunk in df:\n",
    "    # 데이터 타입 최적화\n",
    "    chunk['user_id'] = chunk['user_id'].astype('int32')\n",
    "    chunk['anime_id'] = chunk['anime_id'].astype('int32')\n",
    "    chunk['watching_status'] = chunk['watching_status'].astype('int8')\n",
    "    chunk['rating'] = chunk['rating'].astype('float32')\n",
    "    chunk['watched_episodes'] = chunk['watched_episodes'].astype('int16')\n",
    "\n",
    "    # watching_status에 따라 watching과 completed 나누기\n",
    "    watching_chunk = chunk[chunk['watching_status'] == 1].groupby('user_id')['anime_id'].apply(lambda x: ','.join(map(str, x))).reset_index()\n",
    "    completed_chunk = chunk[chunk['watching_status'] == 2].groupby('user_id')['anime_id'].apply(lambda x: ','.join(map(str, x))).reset_index()\n",
    "\n",
    "    watching_chunks.append(watching_chunk)\n",
    "    completed_chunks.append(completed_chunk)"
   ]
  },
  {
   "cell_type": "code",
   "execution_count": 20,
   "id": "1c0cebb3-e305-40ec-9bf5-d3049e790c95",
   "metadata": {},
   "outputs": [],
   "source": [
    "# 청크를 결합\n",
    "watching = pd.concat(watching_chunks).groupby('user_id')['anime_id'].apply(lambda x: ','.join(x)).reset_index()\n",
    "completed = pd.concat(completed_chunks).groupby('user_id')['anime_id'].apply(lambda x: ','.join(x)).reset_index()\n",
    "\n",
    "# 결과를 user_id에 따라 병합하기\n",
    "result = pd.merge(watching, completed, on='user_id', how='outer', suffixes=('_watching', '_completed'))\n",
    "\n",
    "# 열 이름 변경\n",
    "result.columns = ['user_id', 'watching', 'completed']\n",
    "\n",
    "# 결측값을 빈 문자열로 대체\n",
    "result['watching'] = result['watching'].fillna('')\n",
    "result['completed'] = result['completed'].fillna('')"
   ]
  },
  {
   "cell_type": "code",
   "execution_count": 21,
   "id": "942c86d1-eef1-41de-8468-74f28a3e8df8",
   "metadata": {},
   "outputs": [
    {
     "data": {
      "text/plain": [
       "324688"
      ]
     },
     "execution_count": 21,
     "metadata": {},
     "output_type": "execute_result"
    }
   ],
   "source": [
    "len(result)"
   ]
  },
  {
   "cell_type": "code",
   "execution_count": 22,
   "id": "04304d4d-a865-4e66-a446-9dc93a7e7528",
   "metadata": {},
   "outputs": [
    {
     "data": {
      "text/html": [
       "<div>\n",
       "<style scoped>\n",
       "    .dataframe tbody tr th:only-of-type {\n",
       "        vertical-align: middle;\n",
       "    }\n",
       "\n",
       "    .dataframe tbody tr th {\n",
       "        vertical-align: top;\n",
       "    }\n",
       "\n",
       "    .dataframe thead th {\n",
       "        text-align: right;\n",
       "    }\n",
       "</style>\n",
       "<table border=\"1\" class=\"dataframe\">\n",
       "  <thead>\n",
       "    <tr style=\"text-align: right;\">\n",
       "      <th></th>\n",
       "      <th>user_id</th>\n",
       "      <th>watching</th>\n",
       "      <th>completed</th>\n",
       "    </tr>\n",
       "  </thead>\n",
       "  <tbody>\n",
       "    <tr>\n",
       "      <th>0</th>\n",
       "      <td>0</td>\n",
       "      <td>67,6702,242,4898,21,24,2104,4722,6098,3125,481</td>\n",
       "      <td>68,1689,2913,1250,356,121,430,1829,1571,578,43...</td>\n",
       "    </tr>\n",
       "    <tr>\n",
       "      <th>1</th>\n",
       "      <td>1</td>\n",
       "      <td>37403,9989,24833,7674,34572,34566,2167,40852,1...</td>\n",
       "      <td>22199,6547,9919,5081,31043,31964,33486,36456,3...</td>\n",
       "    </tr>\n",
       "    <tr>\n",
       "      <th>2</th>\n",
       "      <td>2</td>\n",
       "      <td>24833,235,36721,40956,31933,5042,7593,21,35446...</td>\n",
       "      <td>5762,31580,33253,35028,9513,368,11633,31964,33...</td>\n",
       "    </tr>\n",
       "    <tr>\n",
       "      <th>3</th>\n",
       "      <td>3</td>\n",
       "      <td>2593,1604,14749,6114,199,849,33352,23283</td>\n",
       "      <td>31646,32998,25397,12291,1292,34881,32323,22199...</td>\n",
       "    </tr>\n",
       "    <tr>\n",
       "      <th>4</th>\n",
       "      <td>5</td>\n",
       "      <td>530,38680</td>\n",
       "      <td>36904,5112,6287,8676,66,36873,6645,226,120,332...</td>\n",
       "    </tr>\n",
       "  </tbody>\n",
       "</table>\n",
       "</div>"
      ],
      "text/plain": [
       "   user_id                                           watching  \\\n",
       "0        0     67,6702,242,4898,21,24,2104,4722,6098,3125,481   \n",
       "1        1  37403,9989,24833,7674,34572,34566,2167,40852,1...   \n",
       "2        2  24833,235,36721,40956,31933,5042,7593,21,35446...   \n",
       "3        3           2593,1604,14749,6114,199,849,33352,23283   \n",
       "4        5                                          530,38680   \n",
       "\n",
       "                                           completed  \n",
       "0  68,1689,2913,1250,356,121,430,1829,1571,578,43...  \n",
       "1  22199,6547,9919,5081,31043,31964,33486,36456,3...  \n",
       "2  5762,31580,33253,35028,9513,368,11633,31964,33...  \n",
       "3  31646,32998,25397,12291,1292,34881,32323,22199...  \n",
       "4  36904,5112,6287,8676,66,36873,6645,226,120,332...  "
      ]
     },
     "execution_count": 22,
     "metadata": {},
     "output_type": "execute_result"
    }
   ],
   "source": [
    "result.head()"
   ]
  },
  {
   "cell_type": "code",
   "execution_count": 24,
   "id": "7a8351b0-5e12-4e57-9051-5923eed79997",
   "metadata": {},
   "outputs": [],
   "source": [
    "result.to_csv('wc_list.csv',index=False,encoding='utf-8-sig')"
   ]
  },
  {
   "cell_type": "code",
   "execution_count": 28,
   "id": "d250be6c-736b-484d-b09f-728432c9d860",
   "metadata": {},
   "outputs": [],
   "source": [
    "watching_list = result[result['user_id'] == 0]['watching'].tolist()"
   ]
  },
  {
   "cell_type": "code",
   "execution_count": 29,
   "id": "86a5e1dc-00c4-45ea-8f1a-d9d4682b2992",
   "metadata": {},
   "outputs": [
    {
     "data": {
      "text/plain": [
       "['67,6702,242,4898,21,24,2104,4722,6098,3125,481']"
      ]
     },
     "execution_count": 29,
     "metadata": {},
     "output_type": "execute_result"
    }
   ],
   "source": [
    "watching_list"
   ]
  },
  {
   "cell_type": "code",
   "execution_count": null,
   "id": "b9843b09-f297-4963-918c-a1a21611e941",
   "metadata": {},
   "outputs": [],
   "source": []
  }
 ],
 "metadata": {
  "kernelspec": {
   "display_name": "Python 3 (ipykernel)",
   "language": "python",
   "name": "python3"
  },
  "language_info": {
   "codemirror_mode": {
    "name": "ipython",
    "version": 3
   },
   "file_extension": ".py",
   "mimetype": "text/x-python",
   "name": "python",
   "nbconvert_exporter": "python",
   "pygments_lexer": "ipython3",
   "version": "3.8.10"
  }
 },
 "nbformat": 4,
 "nbformat_minor": 5
}
