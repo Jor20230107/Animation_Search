{
 "cells": [
  {
   "cell_type": "code",
   "execution_count": 1,
   "id": "bccd00f2-fb9b-4703-ab14-313319e1e0ae",
   "metadata": {},
   "outputs": [],
   "source": [
    "import pandas as pd"
   ]
  },
  {
   "cell_type": "code",
   "execution_count": 3,
   "id": "264fca90-4ac0-462d-950b-9decbe64e252",
   "metadata": {},
   "outputs": [],
   "source": [
    "animelist = pd.read_csv('D:/WebML/Recommender/data/wc_list.csv')    "
   ]
  },
  {
   "cell_type": "code",
   "execution_count": 4,
   "id": "68fb4208-6e3c-434b-8228-d10cef05e299",
   "metadata": {},
   "outputs": [],
   "source": [
    "this_user_id = 0\n",
    "Myanimelist = animelist[animelist['user_id']==this_user_id]"
   ]
  },
  {
   "cell_type": "code",
   "execution_count": 6,
   "id": "0f9b60b8-5ec6-496f-a41b-61b15d87768b",
   "metadata": {},
   "outputs": [
    {
     "data": {
      "text/plain": [
       "'67,6702,242,4898,21,24,2104,4722,6098,3125,481'"
      ]
     },
     "execution_count": 6,
     "metadata": {},
     "output_type": "execute_result"
    }
   ],
   "source": [
    "Myanimelist['watching'].iloc[0]"
   ]
  },
  {
   "cell_type": "code",
   "execution_count": 8,
   "id": "0a8dcfdc-c74a-4d2a-9b22-51813c1069e4",
   "metadata": {},
   "outputs": [
    {
     "data": {
      "text/plain": [
       "['67',\n",
       " '6702',\n",
       " '242',\n",
       " '4898',\n",
       " '21',\n",
       " '24',\n",
       " '2104',\n",
       " '4722',\n",
       " '6098',\n",
       " '3125',\n",
       " '481']"
      ]
     },
     "execution_count": 8,
     "metadata": {},
     "output_type": "execute_result"
    }
   ],
   "source": [
    "Myanimelist['watching'].iloc[0].split(',')"
   ]
  },
  {
   "cell_type": "code",
   "execution_count": null,
   "id": "1c8128ef-47e0-4167-a9ce-09fea1e8301d",
   "metadata": {},
   "outputs": [],
   "source": []
  }
 ],
 "metadata": {
  "kernelspec": {
   "display_name": "Python 3 (ipykernel)",
   "language": "python",
   "name": "python3"
  },
  "language_info": {
   "codemirror_mode": {
    "name": "ipython",
    "version": 3
   },
   "file_extension": ".py",
   "mimetype": "text/x-python",
   "name": "python",
   "nbconvert_exporter": "python",
   "pygments_lexer": "ipython3",
   "version": "3.8.10"
  }
 },
 "nbformat": 4,
 "nbformat_minor": 5
}
