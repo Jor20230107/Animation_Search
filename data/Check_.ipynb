{
 "cells": [
  {
   "cell_type": "code",
   "execution_count": null,
   "id": "31c755c0-51bf-42ab-809b-c3a272d3f37c",
   "metadata": {},
   "outputs": [],
   "source": [
    "import pandas as pd"
   ]
  },
  {
   "cell_type": "code",
   "execution_count": 2,
   "id": "b2069a90-ad45-4446-9eea-f0a8a3e21c31",
   "metadata": {},
   "outputs": [],
   "source": [
    "animelist = pd.read_csv('animelist.csv')"
   ]
  },
  {
   "cell_type": "code",
   "execution_count": 3,
   "id": "e62dc73b-ab38-489e-8f42-2612367a2dcf",
   "metadata": {},
   "outputs": [
    {
     "data": {
      "text/html": [
       "<div>\n",
       "<style scoped>\n",
       "    .dataframe tbody tr th:only-of-type {\n",
       "        vertical-align: middle;\n",
       "    }\n",
       "\n",
       "    .dataframe tbody tr th {\n",
       "        vertical-align: top;\n",
       "    }\n",
       "\n",
       "    .dataframe thead th {\n",
       "        text-align: right;\n",
       "    }\n",
       "</style>\n",
       "<table border=\"1\" class=\"dataframe\">\n",
       "  <thead>\n",
       "    <tr style=\"text-align: right;\">\n",
       "      <th></th>\n",
       "      <th>user_id</th>\n",
       "      <th>anime_id</th>\n",
       "      <th>rating</th>\n",
       "      <th>watching_status</th>\n",
       "      <th>watched_episodes</th>\n",
       "    </tr>\n",
       "  </thead>\n",
       "  <tbody>\n",
       "    <tr>\n",
       "      <th>0</th>\n",
       "      <td>0</td>\n",
       "      <td>67</td>\n",
       "      <td>9</td>\n",
       "      <td>1</td>\n",
       "      <td>1</td>\n",
       "    </tr>\n",
       "    <tr>\n",
       "      <th>1</th>\n",
       "      <td>0</td>\n",
       "      <td>6702</td>\n",
       "      <td>7</td>\n",
       "      <td>1</td>\n",
       "      <td>4</td>\n",
       "    </tr>\n",
       "    <tr>\n",
       "      <th>2</th>\n",
       "      <td>0</td>\n",
       "      <td>242</td>\n",
       "      <td>10</td>\n",
       "      <td>1</td>\n",
       "      <td>4</td>\n",
       "    </tr>\n",
       "    <tr>\n",
       "      <th>3</th>\n",
       "      <td>0</td>\n",
       "      <td>4898</td>\n",
       "      <td>0</td>\n",
       "      <td>1</td>\n",
       "      <td>1</td>\n",
       "    </tr>\n",
       "    <tr>\n",
       "      <th>4</th>\n",
       "      <td>0</td>\n",
       "      <td>21</td>\n",
       "      <td>10</td>\n",
       "      <td>1</td>\n",
       "      <td>0</td>\n",
       "    </tr>\n",
       "  </tbody>\n",
       "</table>\n",
       "</div>"
      ],
      "text/plain": [
       "   user_id  anime_id  rating  watching_status  watched_episodes\n",
       "0        0        67       9                1                 1\n",
       "1        0      6702       7                1                 4\n",
       "2        0       242      10                1                 4\n",
       "3        0      4898       0                1                 1\n",
       "4        0        21      10                1                 0"
      ]
     },
     "execution_count": 3,
     "metadata": {},
     "output_type": "execute_result"
    }
   ],
   "source": [
    "animelist.head()"
   ]
  },
  {
   "cell_type": "code",
   "execution_count": 4,
   "id": "83d48112-3440-4c67-9a8e-c6d68ca33070",
   "metadata": {},
   "outputs": [],
   "source": [
    "anime = pd.read_csv('anime_synopsys.csv')"
   ]
  },
  {
   "cell_type": "code",
   "execution_count": 5,
   "id": "02e584cb-75f4-4f80-8c2a-a7a947b99e73",
   "metadata": {},
   "outputs": [
    {
     "data": {
      "text/html": [
       "<div>\n",
       "<style scoped>\n",
       "    .dataframe tbody tr th:only-of-type {\n",
       "        vertical-align: middle;\n",
       "    }\n",
       "\n",
       "    .dataframe tbody tr th {\n",
       "        vertical-align: top;\n",
       "    }\n",
       "\n",
       "    .dataframe thead th {\n",
       "        text-align: right;\n",
       "    }\n",
       "</style>\n",
       "<table border=\"1\" class=\"dataframe\">\n",
       "  <thead>\n",
       "    <tr style=\"text-align: right;\">\n",
       "      <th></th>\n",
       "      <th>MAL_ID</th>\n",
       "      <th>Name</th>\n",
       "      <th>Score</th>\n",
       "      <th>Genres</th>\n",
       "      <th>synopsis</th>\n",
       "    </tr>\n",
       "  </thead>\n",
       "  <tbody>\n",
       "    <tr>\n",
       "      <th>0</th>\n",
       "      <td>1</td>\n",
       "      <td>Cowboy Bebop</td>\n",
       "      <td>8.78</td>\n",
       "      <td>Action, Adventure, Comedy, Drama, Sci-Fi, Space</td>\n",
       "      <td>In the year 2071, humanity has colonized sever...</td>\n",
       "    </tr>\n",
       "    <tr>\n",
       "      <th>1</th>\n",
       "      <td>5</td>\n",
       "      <td>Cowboy Bebop: Tengoku no Tobira</td>\n",
       "      <td>8.39</td>\n",
       "      <td>Action, Drama, Mystery, Sci-Fi, Space</td>\n",
       "      <td>other day, another bounty—such is the life of ...</td>\n",
       "    </tr>\n",
       "    <tr>\n",
       "      <th>2</th>\n",
       "      <td>6</td>\n",
       "      <td>Trigun</td>\n",
       "      <td>8.24</td>\n",
       "      <td>Action, Sci-Fi, Adventure, Comedy, Drama, Shounen</td>\n",
       "      <td>Vash the Stampede is the man with a $$60,000,0...</td>\n",
       "    </tr>\n",
       "    <tr>\n",
       "      <th>3</th>\n",
       "      <td>7</td>\n",
       "      <td>Witch Hunter Robin</td>\n",
       "      <td>7.27</td>\n",
       "      <td>Action, Mystery, Police, Supernatural, Drama, ...</td>\n",
       "      <td>ches are individuals with special powers like ...</td>\n",
       "    </tr>\n",
       "    <tr>\n",
       "      <th>4</th>\n",
       "      <td>8</td>\n",
       "      <td>Bouken Ou Beet</td>\n",
       "      <td>6.98</td>\n",
       "      <td>Adventure, Fantasy, Shounen, Supernatural</td>\n",
       "      <td>It is the dark century and the people are suff...</td>\n",
       "    </tr>\n",
       "  </tbody>\n",
       "</table>\n",
       "</div>"
      ],
      "text/plain": [
       "   MAL_ID                             Name  Score  \\\n",
       "0       1                     Cowboy Bebop   8.78   \n",
       "1       5  Cowboy Bebop: Tengoku no Tobira   8.39   \n",
       "2       6                           Trigun   8.24   \n",
       "3       7               Witch Hunter Robin   7.27   \n",
       "4       8                   Bouken Ou Beet   6.98   \n",
       "\n",
       "                                              Genres  \\\n",
       "0    Action, Adventure, Comedy, Drama, Sci-Fi, Space   \n",
       "1              Action, Drama, Mystery, Sci-Fi, Space   \n",
       "2  Action, Sci-Fi, Adventure, Comedy, Drama, Shounen   \n",
       "3  Action, Mystery, Police, Supernatural, Drama, ...   \n",
       "4          Adventure, Fantasy, Shounen, Supernatural   \n",
       "\n",
       "                                            synopsis  \n",
       "0  In the year 2071, humanity has colonized sever...  \n",
       "1  other day, another bounty—such is the life of ...  \n",
       "2  Vash the Stampede is the man with a $$60,000,0...  \n",
       "3  ches are individuals with special powers like ...  \n",
       "4  It is the dark century and the people are suff...  "
      ]
     },
     "execution_count": 5,
     "metadata": {},
     "output_type": "execute_result"
    }
   ],
   "source": [
    "anime.head()"
   ]
  },
  {
   "cell_type": "code",
   "execution_count": 6,
   "id": "29139701-39b9-48c0-9c2c-ea9def6c4676",
   "metadata": {},
   "outputs": [],
   "source": [
    "anime_id = set(anime['MAL_ID'])"
   ]
  },
  {
   "cell_type": "code",
   "execution_count": 7,
   "id": "0410d39d-f0f4-4bde-95d9-1a236d5df254",
   "metadata": {},
   "outputs": [],
   "source": [
    "anime_id2 = set(animelist['anime_id'])"
   ]
  },
  {
   "cell_type": "code",
   "execution_count": 8,
   "id": "d0611c49-c04c-4706-aaee-5f71d4907ee8",
   "metadata": {},
   "outputs": [
    {
     "data": {
      "text/plain": [
       "10909"
      ]
     },
     "execution_count": 8,
     "metadata": {},
     "output_type": "execute_result"
    }
   ],
   "source": [
    "len(anime_id)"
   ]
  },
  {
   "cell_type": "code",
   "execution_count": 9,
   "id": "0246cd86-99fd-4947-8eef-749ad7e9a052",
   "metadata": {},
   "outputs": [
    {
     "data": {
      "text/plain": [
       "17562"
      ]
     },
     "execution_count": 9,
     "metadata": {},
     "output_type": "execute_result"
    }
   ],
   "source": [
    "len(anime_id2)"
   ]
  },
  {
   "cell_type": "code",
   "execution_count": 10,
   "id": "d35ef341-1cbc-4168-ac12-1a69ab0f48b2",
   "metadata": {},
   "outputs": [
    {
     "data": {
      "text/plain": [
       "48492"
      ]
     },
     "execution_count": 10,
     "metadata": {},
     "output_type": "execute_result"
    }
   ],
   "source": [
    "max(anime_id2)"
   ]
  },
  {
   "cell_type": "code",
   "execution_count": 11,
   "id": "93a70d42-3657-44ae-9e13-d968885246a9",
   "metadata": {},
   "outputs": [
    {
     "data": {
      "text/plain": [
       "48456"
      ]
     },
     "execution_count": 11,
     "metadata": {},
     "output_type": "execute_result"
    }
   ],
   "source": [
    "max(anime_id)"
   ]
  },
  {
   "cell_type": "code",
   "execution_count": 13,
   "id": "42d6c751-e276-4042-8325-7fa819abf8a7",
   "metadata": {},
   "outputs": [],
   "source": [
    "anime.columns = ['anime_id', 'Name', 'Score', 'Genres', 'synopsis']"
   ]
  },
  {
   "cell_type": "code",
   "execution_count": 14,
   "id": "07eb7787-8435-4dfe-b700-e4891c5bbccc",
   "metadata": {},
   "outputs": [],
   "source": [
    "anime.to_csv('anime_synopsys.csv', index=False,encoding='utf-8-sig')"
   ]
  },
  {
   "cell_type": "code",
   "execution_count": 15,
   "id": "7acd637c-a131-427e-96b8-c6bca5ae4141",
   "metadata": {},
   "outputs": [],
   "source": [
    "rating = pd.read_csv('rating_complete.csv')"
   ]
  },
  {
   "cell_type": "code",
   "execution_count": 16,
   "id": "a1ad417b-c60e-46ea-b8e4-58858202cf7f",
   "metadata": {},
   "outputs": [
    {
     "data": {
      "text/html": [
       "<div>\n",
       "<style scoped>\n",
       "    .dataframe tbody tr th:only-of-type {\n",
       "        vertical-align: middle;\n",
       "    }\n",
       "\n",
       "    .dataframe tbody tr th {\n",
       "        vertical-align: top;\n",
       "    }\n",
       "\n",
       "    .dataframe thead th {\n",
       "        text-align: right;\n",
       "    }\n",
       "</style>\n",
       "<table border=\"1\" class=\"dataframe\">\n",
       "  <thead>\n",
       "    <tr style=\"text-align: right;\">\n",
       "      <th></th>\n",
       "      <th>user_id</th>\n",
       "      <th>anime_id</th>\n",
       "      <th>rating</th>\n",
       "    </tr>\n",
       "  </thead>\n",
       "  <tbody>\n",
       "    <tr>\n",
       "      <th>0</th>\n",
       "      <td>0</td>\n",
       "      <td>430</td>\n",
       "      <td>9</td>\n",
       "    </tr>\n",
       "    <tr>\n",
       "      <th>1</th>\n",
       "      <td>0</td>\n",
       "      <td>1004</td>\n",
       "      <td>5</td>\n",
       "    </tr>\n",
       "    <tr>\n",
       "      <th>2</th>\n",
       "      <td>0</td>\n",
       "      <td>3010</td>\n",
       "      <td>7</td>\n",
       "    </tr>\n",
       "    <tr>\n",
       "      <th>3</th>\n",
       "      <td>0</td>\n",
       "      <td>570</td>\n",
       "      <td>7</td>\n",
       "    </tr>\n",
       "    <tr>\n",
       "      <th>4</th>\n",
       "      <td>0</td>\n",
       "      <td>2762</td>\n",
       "      <td>9</td>\n",
       "    </tr>\n",
       "    <tr>\n",
       "      <th>...</th>\n",
       "      <td>...</td>\n",
       "      <td>...</td>\n",
       "      <td>...</td>\n",
       "    </tr>\n",
       "    <tr>\n",
       "      <th>57633273</th>\n",
       "      <td>353404</td>\n",
       "      <td>502</td>\n",
       "      <td>8</td>\n",
       "    </tr>\n",
       "    <tr>\n",
       "      <th>57633274</th>\n",
       "      <td>353404</td>\n",
       "      <td>987</td>\n",
       "      <td>4</td>\n",
       "    </tr>\n",
       "    <tr>\n",
       "      <th>57633275</th>\n",
       "      <td>353404</td>\n",
       "      <td>225</td>\n",
       "      <td>8</td>\n",
       "    </tr>\n",
       "    <tr>\n",
       "      <th>57633276</th>\n",
       "      <td>353404</td>\n",
       "      <td>243</td>\n",
       "      <td>7</td>\n",
       "    </tr>\n",
       "    <tr>\n",
       "      <th>57633277</th>\n",
       "      <td>353404</td>\n",
       "      <td>896</td>\n",
       "      <td>7</td>\n",
       "    </tr>\n",
       "  </tbody>\n",
       "</table>\n",
       "<p>57633278 rows × 3 columns</p>\n",
       "</div>"
      ],
      "text/plain": [
       "          user_id  anime_id  rating\n",
       "0               0       430       9\n",
       "1               0      1004       5\n",
       "2               0      3010       7\n",
       "3               0       570       7\n",
       "4               0      2762       9\n",
       "...           ...       ...     ...\n",
       "57633273   353404       502       8\n",
       "57633274   353404       987       4\n",
       "57633275   353404       225       8\n",
       "57633276   353404       243       7\n",
       "57633277   353404       896       7\n",
       "\n",
       "[57633278 rows x 3 columns]"
      ]
     },
     "execution_count": 16,
     "metadata": {},
     "output_type": "execute_result"
    }
   ],
   "source": [
    "rating"
   ]
  },
  {
   "cell_type": "code",
   "execution_count": null,
   "id": "4222a1f2-4f55-45d3-9cf4-2b5d7714a244",
   "metadata": {},
   "outputs": [],
   "source": []
  }
 ],
 "metadata": {
  "kernelspec": {
   "display_name": "Python 3 (ipykernel)",
   "language": "python",
   "name": "python3"
  },
  "language_info": {
   "codemirror_mode": {
    "name": "ipython",
    "version": 3
   },
   "file_extension": ".py",
   "mimetype": "text/x-python",
   "name": "python",
   "nbconvert_exporter": "python",
   "pygments_lexer": "ipython3",
   "version": "3.8.10"
  }
 },
 "nbformat": 4,
 "nbformat_minor": 5
}
